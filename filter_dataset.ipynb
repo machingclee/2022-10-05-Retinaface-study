{
 "cells": [
  {
   "cell_type": "code",
   "execution_count": 24,
   "metadata": {},
   "outputs": [],
   "source": [
    "filenames_in_dataset = []\n",
    "with open(\"dataset/wider_face_annotation/train/label.txt\") as f:\n",
    "  for line in f:\n",
    "    line = line.strip().split(\" \")\n",
    "    if line[0] == \"#\":\n",
    "      filenames_in_dataset.append(line[1])"
   ]
  },
  {
   "cell_type": "code",
   "execution_count": 25,
   "metadata": {},
   "outputs": [
    {
     "data": {
      "text/plain": [
       "12880"
      ]
     },
     "execution_count": 25,
     "metadata": {},
     "output_type": "execute_result"
    }
   ],
   "source": [
    "len(filenames_in_dataset)"
   ]
  },
  {
   "cell_type": "code",
   "execution_count": 26,
   "metadata": {},
   "outputs": [],
   "source": [
    "import os\n",
    "\n",
    "training_dir = \"dataset/WIDER_train/images\"\n",
    "existing_training_dir_imgpaths = []\n",
    "\n",
    "for cls_dir in os.listdir(training_dir):\n",
    "  for img in os.listdir(f\"{training_dir}/{cls_dir}\"):\n",
    "    if img.endswith(\".jpg\"):\n",
    "      existing_training_dir_imgpaths.append(f\"{cls_dir}/{img}\")\n"
   ]
  },
  {
   "cell_type": "code",
   "execution_count": 27,
   "metadata": {},
   "outputs": [
    {
     "name": "stdout",
     "output_type": "stream",
     "text": [
      "0--Parade/0_Parade_marchingband_1_100.jpg\n",
      "0--Parade/0_Parade_marchingband_1_1015.jpg\n"
     ]
    }
   ],
   "source": [
    "for img in filenames_in_dataset:\n",
    "  if img not in existing_training_dir_imgpaths:\n",
    "    print(img)"
   ]
  },
  {
   "cell_type": "code",
   "execution_count": null,
   "metadata": {},
   "outputs": [],
   "source": []
  }
 ],
 "metadata": {
  "kernelspec": {
   "display_name": "Python 3.8.13 ('dl')",
   "language": "python",
   "name": "python3"
  },
  "language_info": {
   "codemirror_mode": {
    "name": "ipython",
    "version": 3
   },
   "file_extension": ".py",
   "mimetype": "text/x-python",
   "name": "python",
   "nbconvert_exporter": "python",
   "pygments_lexer": "ipython3",
   "version": "3.8.13"
  },
  "orig_nbformat": 4,
  "vscode": {
   "interpreter": {
    "hash": "50d1bf4b9148827e609ee81bac728110216a969d058d789edc2677a92739b380"
   }
  }
 },
 "nbformat": 4,
 "nbformat_minor": 2
}
